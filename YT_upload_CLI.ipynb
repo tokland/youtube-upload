{
  "nbformat": 4,
  "nbformat_minor": 0,
  "metadata": {
    "colab": {
      "name": "YT upload CLI.ipynb",
      "provenance": [],
      "authorship_tag": "ABX9TyMRZFgJwckvoXd3SbKBdQfg",
      "include_colab_link": true
    },
    "kernelspec": {
      "name": "python3",
      "display_name": "Python 3"
    },
    "language_info": {
      "name": "python"
    }
  },
  "cells": [
    {
      "cell_type": "markdown",
      "metadata": {
        "id": "view-in-github",
        "colab_type": "text"
      },
      "source": [
        "<a href=\"https://colab.research.google.com/github/chanukab7/youtube-upload/blob/master/YT_upload_CLI.ipynb\" target=\"_parent\"><img src=\"https://colab.research.google.com/assets/colab-badge.svg\" alt=\"Open In Colab\"/></a>"
      ]
    },
    {
      "cell_type": "code",
      "metadata": {
        "id": "O_wpy89nf_TQ"
      },
      "source": [
        "!sudo pip install --upgrade google-api-python-client progressbar2\n",
        "!pip install gdown\n",
        "!wget https://github.com/chanukab7/youtube-upload\n",
        "!unzip master.zip\n",
        "%cd youtube-upload-master\n",
        "!sudo python setup.py install"
      ],
      "execution_count": null,
      "outputs": []
    },
    {
      "cell_type": "code",
      "metadata": {
        "id": "-fTmcuxmgfmL"
      },
      "source": [
        "!gdown #drive link"
      ],
      "execution_count": null,
      "outputs": []
    },
    {
      "cell_type": "code",
      "metadata": {
        "id": "xyPaeKFyhgLZ"
      },
      "source": [
        "#if client secret file is uploaded newly,\n",
        "#upload client secrets to /content/ folder then run\n",
        "!mv /content/client*.json client_secrets.json"
      ],
      "execution_count": 7,
      "outputs": []
    },
    {
      "cell_type": "code",
      "metadata": {
        "id": "S5wdwA-6guO_"
      },
      "source": [
        "!youtube-upload --title=\"#Title\" #vid_path --client-secrets /content/youtube-upload-master/client_secrets.json"
      ],
      "execution_count": null,
      "outputs": []
    }
  ]
}